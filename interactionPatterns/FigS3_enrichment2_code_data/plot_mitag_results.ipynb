{
 "cells": [
  {
   "cell_type": "code",
   "execution_count": 1,
   "id": "46afdc29",
   "metadata": {},
   "outputs": [],
   "source": [
    "import pandas as pd\n",
    "import numpy as np\n",
    "import matplotlib.pyplot as plt\n",
    "plt.rcParams['svg.fonttype'] = 'none'\n",
    "plt.rcParams['axes.linewidth'] = 1\n",
    "plt.rcParams['font.family'] = 'Arial'\n",
    "import glob\n",
    "\n",
    "files = np.sort(glob.glob(\"RDP_results/*_hier_copynum.txt\"));"
   ]
  },
  {
   "cell_type": "code",
   "execution_count": 4,
   "id": "a6653694",
   "metadata": {
    "scrolled": true
   },
   "outputs": [],
   "source": [
    "soils = [];\n",
    "ph = [];\n",
    "for file in files:\n",
    "    #load copynumber adjusted RDP output files\n",
    "    df = pd.read_csv(file,sep=\"\\t\",error_bad_lines=False,skiprows=6,header=None)\n",
    "    df.columns = ['Rank','Name','Abundance']\n",
    "\n",
    "    total = df.iloc[0].Abundance\n",
    "\n",
    "    #Remove rows with zero abundance\n",
    "    df = df.iloc[np.where(df.Abundance > 0.0)[0]]\n",
    "\n",
    "    #Compute relative abundances\n",
    "    df['RelativeAbundance'] = df.Abundance/total\n",
    "\n",
    "    unclassified_root = df.iloc[np.where(df.Name == 'unclassified_Root')[0]]\n",
    "    unclassified_bacteria = df.iloc[np.where(df.Name == 'unclassified_Bacteria')[0]]\n",
    "    unclassified_archaea = df.iloc[np.where(df.Name == 'unclassified_Archaea')[0]]\n",
    "    unclassified_eukaryota = df.iloc[np.where(df.Name == 'unclassified_Eukaryota')[0]]\n",
    "\n",
    "    #Keep only abundances at the level of order\n",
    "    df = df.iloc[np.where(df.Rank == 'order')[0]]\n",
    "    \n",
    "    #Keep only taxa with abundance greater than 1%. Merge the rest into \"Other classified\"\n",
    "    T = 0.05\n",
    "    other_classified_total = np.sum(df['RelativeAbundance'].iloc[np.where(df.RelativeAbundance < T)[0]].values)\n",
    "    df = df.iloc[np.where(df.RelativeAbundance >= T)[0]]\n",
    "    df = pd.concat([unclassified_bacteria,unclassified_archaea,unclassified_eukaryota,unclassified_root,pd.DataFrame(data = {'Name':'Other classified',\"RelativeAbundance\":[other_classified_total]}),df])\n",
    "\n",
    "    if file == files[0]:\n",
    "        ra = df['RelativeAbundance']\n",
    "        ra.index = df['Name'].values\n",
    "        ra.name = file[21:23]\n",
    "    else:\n",
    "        df_temp = df['RelativeAbundance']\n",
    "        df_temp.index = df['Name'].values\n",
    "        df_temp.name = file[21:23]\n",
    "        ra=pd.concat([ra,df_temp],axis=1)\n",
    "    soils.append(file[12:14])\n",
    "    ph.append(float(file[18:20])/10)\n",
    "        \n",
    "ra = ra.fillna(0)\n",
    "ph = np.array(ph)\n",
    "soils = np.array(soils)\n",
    "samp_ids = np.array(ra.columns)\n",
    "\n",
    "ra = ra.drop(index=['unclassified_Bacteria','Other classified'])\n",
    "ra = ra.reindex(['Rhizobiales','Rhodocyclales','Burkholderiales','Pseudomonadales','Enterobacterales','Xanthomonadales'])"
   ]
  },
  {
   "cell_type": "code",
   "execution_count": 6,
   "id": "bb4586f8",
   "metadata": {},
   "outputs": [
    {
     "data": {
      "image/png": "[encoded data removed]",
      "text/plain": [
       "<Figure size 1080x216 with 4 Axes>"
      ]
     },
     "metadata": {
      "needs_background": "light"
     },
     "output_type": "display_data"
    }
   ],
   "source": [
    "colors = ['tomato','lightsalmon','cornflowerblue','steelblue','blue','skyblue']\n",
    "width=0.75\n",
    "phs = np.unique(ph)\n",
    "fig, axs = plt.subplots(1,4, figsize=(15, 3))\n",
    "\n",
    "for j in range(0,len(phs)):\n",
    "    ph_plot = phs[j]\n",
    "    plot_idx = np.where(ph==ph_plot)[0]\n",
    "\n",
    "    ra_sub = ra[samp_ids[plot_idx]]\n",
    "    #Keep only taxa with nonzero abundance.\n",
    "    T = 0.01\n",
    "    # ra_sub = ra_sub[ra_sub > T].dropna(how='all').fillna(0)\n",
    "\n",
    "    axs[j].bar(soils[plot_idx], ra_sub.iloc[0], width, label=ra_sub.iloc[0].name,color=colors[0])\n",
    "    heights = ra_sub.iloc[0]\n",
    "    for i in range(1,len(ra_sub)):\n",
    "        if j == 0:\n",
    "            axs[j].bar(x=range(1,6), height=ra_sub.iloc[i], width=width, label=ra_sub.iloc[i].name,bottom = heights,color=colors[i]) #kluge\n",
    "        else:\n",
    "            axs[j].bar(range(0,len(plot_idx)), ra_sub.iloc[i], width, label=ra_sub.iloc[i].name,bottom = heights,color=colors[i])\n",
    "        heights = heights + ra_sub.iloc[i]\n",
    "    axs[j].set_title('pH '+str(ph_plot));\n",
    "    axs[j].set_ylim([0,1]);\n",
    "    axs[j].set_xlim([-0.5,6.5]);\n",
    "    #axs[j].set_xticks(ticks=range(0,7),labels=['soil #7','soil #8','soil #9', 'soil #10', 'soil #11', 'soil #12', 'soil #13'],ha='right',rotation=45)\n",
    "    axs[j].set_xticks(ticks=range(0, 7))\n",
    "    axs[j].set_xticklabels(['soil #7', 'soil #8', 'soil #9', 'soil #10', 'soil #11', 'soil #12', 'soil #13'], ha='right', rotation=45)\n",
    "\n",
    "axs[-1].legend(loc='center', bbox_to_anchor=(1.5, 0.5), fancybox=False, shadow=True);\n",
    "# plt.savefig('Enrichment2_mitags.svg')"
   ]
  },
  {
   "cell_type": "code",
   "execution_count": null,
   "id": "92d46f46",
   "metadata": {},
   "outputs": [],
   "source": []
  }
 ],
 "metadata": {
  "kernelspec": {
   "display_name": "Python 3",
   "language": "python",
   "name": "python3"
  },
  "language_info": {
   "codemirror_mode": {
    "name": "ipython",
    "version": 3
   },
   "file_extension": ".py",
   "mimetype": "text/x-python",
   "name": "python",
   "nbconvert_exporter": "python",
   "pygments_lexer": "ipython3",
   "version": "3.7.0"
  }
 },
 "nbformat": 4,
 "nbformat_minor": 5
}
