{
 "cells": [
  {
   "cell_type": "code",
   "execution_count": 117,
   "id": "46afdc29",
   "metadata": {},
   "outputs": [],
   "source": [
    "import pandas as pd\n",
    "import numpy as np\n",
    "import matplotlib.pyplot as plt\n",
    "plt.rcParams['svg.fonttype'] = 'none'\n",
    "plt.rcParams['font.family'] = 'Arial'\n",
    "plt.rcParams['axes.linewidth'] = 1\n",
    "import glob\n",
    "\n",
    "matlab_lines = np.array([[0,0.447,0.741],[0.85,0.325,0.098],[0.929,0.694,0.125],[0.494,0.184,0.556],\n",
    "                         [0.466,0.674,0.188],[0.301,0.745,0.933],[0.635,0.078,0.184]])\n",
    "\n",
    "files = np.sort(glob.glob(\"*.hier_copynum.txt\"));"
   ]
  },
  {
   "cell_type": "code",
   "execution_count": 114,
   "id": "a6653694",
   "metadata": {
    "scrolled": true
   },
   "outputs": [],
   "source": [
    "for file in files:\n",
    "    #load copynumber adjusted RDP output files\n",
    "    df = pd.read_csv(file,sep=\"\\t\",on_bad_lines='skip',skiprows=6,header=None)\n",
    "    df.columns = ['Rank','Name','Abundance']\n",
    "\n",
    "    total = df.iloc[0].Abundance\n",
    "\n",
    "    #Remove rows with zero abundance\n",
    "    df = df.iloc[np.where(df.Abundance > 0.0)[0]]\n",
    "\n",
    "    #Compute relative abundances\n",
    "    df['RelativeAbundance'] = df.Abundance/total\n",
    "\n",
    "    unclassified_root = df.iloc[np.where(df.Name == 'unclassified_Root')[0]]\n",
    "    unclassified_bacteria = df.iloc[np.where(df.Name == 'unclassified_Bacteria')[0]]\n",
    "    unclassified_archaea = df.iloc[np.where(df.Name == 'unclassified_Archaea')[0]]\n",
    "    unclassified_eukaryota = df.iloc[np.where(df.Name == 'unclassified_Eukaryota')[0]]\n",
    "\n",
    "    #Keep only abundances at the level of order\n",
    "    df = df.iloc[np.where(df.Rank == 'order')[0]]\n",
    "    \n",
    "    #Keep only taxa with abundance greater than 1%. Merge the rest into \"Other classified\"\n",
    "    T = 0.01\n",
    "    other_classified_total = np.sum(df['RelativeAbundance'].iloc[np.where(df.RelativeAbundance < T)[0]].values)\n",
    "    df = df.iloc[np.where(df.RelativeAbundance >= T)[0]]\n",
    "    df = pd.concat([unclassified_bacteria,unclassified_archaea,unclassified_eukaryota,unclassified_root,pd.DataFrame(data = {'Name':'Other classified',\"RelativeAbundance\":[other_classified_total]}),df])\n",
    "\n",
    "    if file == files[0]:\n",
    "        ra = df['RelativeAbundance']\n",
    "        ra.index = df['Name'].values\n",
    "        ra.name = file[0:2]\n",
    "    else:\n",
    "        df_temp = df['RelativeAbundance']\n",
    "        df_temp.index = df['Name'].values\n",
    "        df_temp.name = file[0:2]\n",
    "        ra=pd.concat([ra,df_temp],axis=1)\n",
    "        \n",
    "ra = ra.fillna(0)\n",
    "samp_ids = np.array(ra.columns)\n",
    "\n",
    "ra = ra*100"
   ]
  },
  {
   "cell_type": "code",
   "execution_count": 124,
   "id": "ce82586d",
   "metadata": {},
   "outputs": [
    {
     "data": {
      "image/png": "[encoded data removed]",
      "text/plain": [
       "<Figure size 432x144 with 2 Axes>"
      ]
     },
     "metadata": {
      "needs_background": "light"
     },
     "output_type": "display_data"
    }
   ],
   "source": [
    "width=0.75\n",
    "T = 0.01\n",
    "\n",
    "clr_order = [6,1,0,6,3,2]\n",
    "\n",
    "fig, axs = plt.subplots(1, 2,figsize=(6, 2))\n",
    "\n",
    "j = 0\n",
    "plot_idx = np.array(range(0,6),dtype=int)\n",
    "ra_sub = ra[samp_ids[plot_idx]]\n",
    "#Keep only taxa with nonzero abundance.\n",
    "# ra_sub = ra_sub[ra_sub > T].dropna(how='all').fillna(0)\n",
    "axs[j].bar(samp_ids[plot_idx], ra_sub.iloc[0], width, label=ra_sub.iloc[0].name)\n",
    "heights = ra_sub.iloc[0]\n",
    "for i in range(1,len(ra_sub)):\n",
    "    axs[j].bar(samp_ids[plot_idx], ra_sub.iloc[i], width, label=ra_sub.iloc[i].name,bottom = heights, color=matlab_lines[clr_order[i],:])\n",
    "    heights = heights + ra_sub.iloc[i]\n",
    "# axs[j].set_title('pH = '+str(ph_plot));\n",
    "axs[j].set_xticks(range(0,6),['sample 1', 'sample 2','sample 3','sample 4','sample 5','sample 6'],rotation=45,horizontalalignment='right',fontsize=7);\n",
    "axs[j].set_ylim([0,100]);\n",
    "axs[j].set_ylabel('relative abundance (%)',verticalalignment='center')\n",
    "\n",
    "j = 1\n",
    "plot_idx = np.array(range(6,12),dtype=int)\n",
    "ra_sub = ra[samp_ids[plot_idx]]\n",
    "#Keep only taxa with nonzero abundance.\n",
    "# ra_sub = ra_sub[ra_sub > T].dropna(how='all').fillna(0)\n",
    "axs[j].bar(samp_ids[plot_idx], ra_sub.iloc[0], width, label=ra_sub.iloc[0].name)\n",
    "heights = ra_sub.iloc[0]\n",
    "for i in range(1,len(ra_sub)):\n",
    "    axs[j].bar(samp_ids[plot_idx], ra_sub.iloc[i], width, label=ra_sub.iloc[i].name,bottom = heights, color=matlab_lines[clr_order[i],:])\n",
    "    heights = heights + ra_sub.iloc[i]\n",
    "# axs[j].set_title('pH = '+str(ph_plot));\n",
    "axs[j].set_ylim([0,100]);\n",
    "axs[j].set_xticks(range(0,6),['sample 1', 'sample 2','sample 3','sample 4','sample 5','sample 6'],rotation=45,horizontalalignment='right',fontsize=7);\n",
    "axs[j].set_yticks(ticks=[0,20,40,60,80,100],fontsize=7)\n",
    "plt.savefig('Fig2_enrichment_relabund.svg')"
   ]
  }
 ],
 "metadata": {
  "kernelspec": {
   "display_name": "Python 3",
   "language": "python",
   "name": "python3"
  },
  "language_info": {
   "codemirror_mode": {
    "name": "ipython",
    "version": 3
   },
   "file_extension": ".py",
   "mimetype": "text/x-python",
   "name": "python",
   "nbconvert_exporter": "python",
   "pygments_lexer": "ipython3",
   "version": "3.7.9"
  }
 },
 "nbformat": 4,
 "nbformat_minor": 5
}
