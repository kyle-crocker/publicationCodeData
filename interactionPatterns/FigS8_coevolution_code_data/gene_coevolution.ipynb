{
 "cells": [
  {
   "attachments": {},
   "cell_type": "markdown",
   "metadata": {},
   "source": [
    "# Calculate denitrification gene co-evolution by phylogeny weighted adjusted mutual information\n",
    "\n",
    "Zeqian Li\n",
    "\n",
    "Last update: June 27th, 2023\n",
    "\n",
    "For the paper \"Genomic patterns in the global soil microbiome emerge from microbial interactions\" by Kyle Crocker, Milena Chakraverti-Wuerthwein, Zeqian Li, Madhav Mani, Karna Gowda, Seppe Kuehn. "
   ]
  },
  {
   "cell_type": "code",
   "execution_count": 3,
   "metadata": {},
   "outputs": [
    {
     "name": "stdout",
     "output_type": "stream",
     "text": [
      "The autoreload extension is already loaded. To reload it, use:\n",
      "  %reload_ext autoreload\n"
     ]
    }
   ],
   "source": [
    "%load_ext autoreload\n",
    "%autoreload 2\n",
    "\n",
    "import numpy as np, pandas as pd, matplotlib.pyplot as plt, seaborn as sns\n",
    "import os"
   ]
  },
  {
   "cell_type": "code",
   "execution_count": 9,
   "metadata": {},
   "outputs": [],
   "source": [
    "dn_mtx=pd.read_pickle(\"data/dn_mtx.pk\") # Cleaned presence-absence matrix of denitrification genomes downloaded from KEGG\n",
    "dn_mtx=dn_mtx[['narG','napA','nirS','nirK','cNor','qNor','nosZ']]\n",
    "\n",
    "sixteenS_weights=pd.read_pickle(\"data/16s_weights.pk\") # Phylogenetic weights calculated form 16S distance matrix"
   ]
  },
  {
   "cell_type": "code",
   "execution_count": 10,
   "metadata": {},
   "outputs": [],
   "source": [
    "class MI:\n",
    "    \"\"\" A collection of functions for calculating mutual information between genes\"\"\"  \n",
    "    @staticmethod\n",
    "    def f_naive(aij,ai,aj,N): # naive mutual information\n",
    "        fij=aij/N\n",
    "        fi=ai/N\n",
    "        fj=aj/N\n",
    "        def _term(fij,fi,fj):\n",
    "            if fij==0:\n",
    "                return 0\n",
    "            return fij*np.log(fij/(fi*fj))\n",
    "\n",
    "        return _term(fij,fi,fj)+_term(fj-fij,1-fi,fj)+_term(fi-fij,fi,1-fj)+_term(1-fi-fj+fij,1-fi,1-fj)\n",
    "    \n",
    "    @staticmethod\n",
    "    def entropy(a,N): # entropy\n",
    "        f=a/N\n",
    "        return -(f*np.log(f)+(1-f)*np.log(1-f))\n",
    "    \n",
    "    @staticmethod\n",
    "    def mutual_info(dn_mtx,ws=None, f=None):\n",
    "        # f: a callable of mutual info calculation. Takes three arguments: aij, ai, aj, N \n",
    "        if f is None:\n",
    "            f=MI.f_naive\n",
    "        elif f=='cont':\n",
    "            f=MI.f_cont\n",
    "        elif f=='cont_signed':\n",
    "            f=MI.f_cont_signed\n",
    "        elif f=='f_round':\n",
    "            f=MI.f_round\n",
    "        # else: f is a callable\n",
    "        \n",
    "        if ws is None:\n",
    "            ws=pd.Series(np.ones(dn_mtx.shape[0]), index=dn_mtx.index)\n",
    "\n",
    "        D=pd.DataFrame(0,index=dn_mtx.columns,columns=dn_mtx.columns,dtype=float)\n",
    "        for gi in dn_mtx.columns:\n",
    "            for gj in dn_mtx.columns:\n",
    "                if gi==gj:\n",
    "                    continue\n",
    "                N=ws.sum()\n",
    "                ai=ws[(dn_mtx.loc[:,gi]==1).values].sum()\n",
    "                aj=ws[(dn_mtx.loc[:,gj]==1).values].sum()\n",
    "                aij=ws[((dn_mtx.loc[:,gi]==1) & (dn_mtx.loc[:,gj]==1)).values].sum()\n",
    "                D.at[gi,gj]=f(aij,ai,aj,N)\n",
    "        return D\n",
    "    \n",
    "    @staticmethod\n",
    "    # Analytic continuation\n",
    "    def f_cont(aij,ai,aj,N, method='mean'):\n",
    "        from scipy.special import gammaln\n",
    "        from scipy.integrate import quad\n",
    "        I=MI.f_naive(aij,ai,aj,N)\n",
    "        Hi,Hj=MI.entropy(ai,N),MI.entropy(aj,N)\n",
    "\n",
    "        # expectation\n",
    "        def _term(ab,a,b,N): # see https://scikit-learn.org/stable/modules/clustering.html#mutual-info-score\n",
    "            _1=ab/N\n",
    "            _2=np.log(N*ab/a/b)\n",
    "            _3=gammaln(a+1)+gammaln(b+1)+gammaln(N-a+1)+gammaln(N-b+1)\n",
    "            _4=gammaln(N+1)+gammaln(ab+1)+gammaln(a-ab+1)+gammaln(b-ab+1)+gammaln(N-a-b+ab+1)\n",
    "            out= _1*_2*np.exp(_3-_4)\n",
    "            return out\n",
    "\n",
    "        def integral(a,b,N):\n",
    "            l,h=max(0,a+b-N),min(a,b)\n",
    "            return quad(lambda x: _term(x,a,b,N),l,h)[0]\n",
    "\n",
    "        # for testing\n",
    "        # def integral(a,b,N):\n",
    "        #      l,h=int(max(1,a+b-N)),int(min(a,b))\n",
    "        #      out=sum([_term(x,a,b,N) for x in range(l,h+1)])\n",
    "        #      return out\n",
    "\n",
    "        E=integral(ai,aj,N)+integral(N-ai,aj,N)+integral(ai,N-aj,N)+integral(N-ai,N-aj,N)\n",
    "\n",
    "        return (I-E)/((Hi+Hj)/2-E)\n",
    "    \n",
    "    @staticmethod\n",
    "    def f_cont_signed(aij,ai,aj,N, method='mean'): # Add sign by Pearson correlation\n",
    "        return np.sign(aij*N-ai*aj)*MI.f_cont(aij,ai,aj,N,method=method)\n",
    "    \n",
    "    @staticmethod\n",
    "    def f_round(aij,ai,aj,N,method='round'): # round a float number to an integer\n",
    "        from sklearn.metrics.cluster import adjusted_mutual_info_score\n",
    "\n",
    "        if method=='round':\n",
    "            f=round\n",
    "        elif method=='ceil':\n",
    "            from math import ceil\n",
    "            f=ceil\n",
    "        elif method=='floor':\n",
    "            from math import floor\n",
    "            f=floor\n",
    "        else:\n",
    "            raise ValueError\n",
    "\n",
    "        aij,ai,aj,N=f(aij),f(ai),f(aj),f(N)\n",
    "        v1,v2=np.zeros(N,dtype=int),np.zeros(N,dtype=int)\n",
    "        v1[:ai]=1\n",
    "        v2[:aij]=1\n",
    "        if aj-aij>0:\n",
    "            v2[-(aj-aij):]=1\n",
    "\n",
    "        return adjusted_mutual_info_score(v1,v2)"
   ]
  },
  {
   "cell_type": "code",
   "execution_count": 11,
   "metadata": {},
   "outputs": [],
   "source": [
    "mi=MI.mutual_info(dn_mtx, ws=sixteenS_weights, f='cont_signed')"
   ]
  },
  {
   "cell_type": "code",
   "execution_count": 12,
   "metadata": {},
   "outputs": [
    {
     "data": {
      "text/html": [
       "<div>\n",
       "<style scoped>\n",
       "    .dataframe tbody tr th:only-of-type {\n",
       "        vertical-align: middle;\n",
       "    }\n",
       "\n",
       "    .dataframe tbody tr th {\n",
       "        vertical-align: top;\n",
       "    }\n",
       "\n",
       "    .dataframe thead th {\n",
       "        text-align: right;\n",
       "    }\n",
       "</style>\n",
       "<table border=\"1\" class=\"dataframe\">\n",
       "  <thead>\n",
       "    <tr style=\"text-align: right;\">\n",
       "      <th></th>\n",
       "      <th>narG</th>\n",
       "      <th>napA</th>\n",
       "      <th>nirS</th>\n",
       "      <th>nirK</th>\n",
       "      <th>cNor</th>\n",
       "      <th>qNor</th>\n",
       "      <th>nosZ</th>\n",
       "    </tr>\n",
       "  </thead>\n",
       "  <tbody>\n",
       "    <tr>\n",
       "      <th>narG</th>\n",
       "      <td>0.000000</td>\n",
       "      <td>-0.071913</td>\n",
       "      <td>-0.001492</td>\n",
       "      <td>-0.014144</td>\n",
       "      <td>-0.002592</td>\n",
       "      <td>-0.005684</td>\n",
       "      <td>-0.016476</td>\n",
       "    </tr>\n",
       "    <tr>\n",
       "      <th>napA</th>\n",
       "      <td>-0.071913</td>\n",
       "      <td>0.000000</td>\n",
       "      <td>0.058718</td>\n",
       "      <td>-0.019148</td>\n",
       "      <td>0.050607</td>\n",
       "      <td>-0.034529</td>\n",
       "      <td>0.020911</td>\n",
       "    </tr>\n",
       "    <tr>\n",
       "      <th>nirS</th>\n",
       "      <td>-0.001492</td>\n",
       "      <td>0.058718</td>\n",
       "      <td>0.000000</td>\n",
       "      <td>-0.018480</td>\n",
       "      <td>0.234873</td>\n",
       "      <td>-0.002522</td>\n",
       "      <td>0.080470</td>\n",
       "    </tr>\n",
       "    <tr>\n",
       "      <th>nirK</th>\n",
       "      <td>-0.014144</td>\n",
       "      <td>-0.019148</td>\n",
       "      <td>-0.018480</td>\n",
       "      <td>0.000000</td>\n",
       "      <td>0.001317</td>\n",
       "      <td>0.010354</td>\n",
       "      <td>0.000511</td>\n",
       "    </tr>\n",
       "    <tr>\n",
       "      <th>cNor</th>\n",
       "      <td>-0.002592</td>\n",
       "      <td>0.050607</td>\n",
       "      <td>0.234873</td>\n",
       "      <td>0.001317</td>\n",
       "      <td>0.000000</td>\n",
       "      <td>-0.059599</td>\n",
       "      <td>0.144309</td>\n",
       "    </tr>\n",
       "    <tr>\n",
       "      <th>qNor</th>\n",
       "      <td>-0.005684</td>\n",
       "      <td>-0.034529</td>\n",
       "      <td>-0.002522</td>\n",
       "      <td>0.010354</td>\n",
       "      <td>-0.059599</td>\n",
       "      <td>0.000000</td>\n",
       "      <td>0.000963</td>\n",
       "    </tr>\n",
       "    <tr>\n",
       "      <th>nosZ</th>\n",
       "      <td>-0.016476</td>\n",
       "      <td>0.020911</td>\n",
       "      <td>0.080470</td>\n",
       "      <td>0.000511</td>\n",
       "      <td>0.144309</td>\n",
       "      <td>0.000963</td>\n",
       "      <td>0.000000</td>\n",
       "    </tr>\n",
       "  </tbody>\n",
       "</table>\n",
       "</div>"
      ],
      "text/plain": [
       "          narG      napA      nirS      nirK      cNor      qNor      nosZ\n",
       "narG  0.000000 -0.071913 -0.001492 -0.014144 -0.002592 -0.005684 -0.016476\n",
       "napA -0.071913  0.000000  0.058718 -0.019148  0.050607 -0.034529  0.020911\n",
       "nirS -0.001492  0.058718  0.000000 -0.018480  0.234873 -0.002522  0.080470\n",
       "nirK -0.014144 -0.019148 -0.018480  0.000000  0.001317  0.010354  0.000511\n",
       "cNor -0.002592  0.050607  0.234873  0.001317  0.000000 -0.059599  0.144309\n",
       "qNor -0.005684 -0.034529 -0.002522  0.010354 -0.059599  0.000000  0.000963\n",
       "nosZ -0.016476  0.020911  0.080470  0.000511  0.144309  0.000963  0.000000"
      ]
     },
     "execution_count": 12,
     "metadata": {},
     "output_type": "execute_result"
    }
   ],
   "source": [
    "mi"
   ]
  },
  {
   "attachments": {},
   "cell_type": "markdown",
   "metadata": {},
   "source": [
    "### Plot"
   ]
  },
  {
   "cell_type": "code",
   "execution_count": 16,
   "metadata": {},
   "outputs": [],
   "source": [
    "import matplotlib\n",
    "plt.rcParams.update({'font.size': 15})\n",
    "plt.rcParams['figure.dpi'] = 200\n",
    "plt.rcParams['figure.facecolor'] = 'white'\n",
    "plt.rcParams['figure.figsize'] = (7, 5)\n",
    "plt.rcParams['axes.axisbelow'] = True\n",
    "\n",
    "pd.set_option('display.max_columns', None)"
   ]
  },
  {
   "cell_type": "code",
   "execution_count": 18,
   "metadata": {},
   "outputs": [
    {
     "data": {
      "text/plain": [
       "<AxesSubplot: >"
      ]
     },
     "execution_count": 18,
     "metadata": {},
     "output_type": "execute_result"
    },
    {
     "data": {
      "image/png": "[encoded data removed]",
      "text/plain": [
       "<Figure size 800x800 with 2 Axes>"
      ]
     },
     "metadata": {},
     "output_type": "display_data"
    }
   ],
   "source": [
    "fig=plt.figure(figsize=(4,4))\n",
    "sns.heatmap(mi, cmap='vlag', vmin=-0.25, vmax=0.25,square=True)"
   ]
  }
 ],
 "metadata": {
  "kernelspec": {
   "display_name": "zeqian",
   "language": "python",
   "name": "python3"
  },
  "language_info": {
   "codemirror_mode": {
    "name": "ipython",
    "version": 3
   },
   "file_extension": ".py",
   "mimetype": "text/x-python",
   "name": "python",
   "nbconvert_exporter": "python",
   "pygments_lexer": "ipython3",
   "version": "3.11.0"
  },
  "orig_nbformat": 4
 },
 "nbformat": 4,
 "nbformat_minor": 2
}
